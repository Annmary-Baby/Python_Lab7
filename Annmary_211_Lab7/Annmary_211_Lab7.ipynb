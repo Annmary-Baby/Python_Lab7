{
 "cells": [
  {
   "cell_type": "markdown",
   "id": "b28291b1",
   "metadata": {},
   "source": [
    "Q1. Create two 3×3 matrices using the random function in Numpy and perform the following operations.\n",
    "è Product (prod)\n",
    "è Multiplication (multiply)\n",
    "è Dot Product (dot)\n"
   ]
  },
  {
   "cell_type": "code",
   "execution_count": 1,
   "id": "a9e0aeac",
   "metadata": {},
   "outputs": [
    {
     "ename": "ModuleNotFoundError",
     "evalue": "No module named 'numpy'",
     "output_type": "error",
     "traceback": [
      "\u001b[1;31m---------------------------------------------------------------------------\u001b[0m",
      "\u001b[1;31mModuleNotFoundError\u001b[0m                       Traceback (most recent call last)",
      "Cell \u001b[1;32mIn[1], line 1\u001b[0m\n\u001b[1;32m----> 1\u001b[0m \u001b[39mimport\u001b[39;00m \u001b[39mnumpy\u001b[39;00m \u001b[39mas\u001b[39;00m \u001b[39mnp\u001b[39;00m\n",
      "\u001b[1;31mModuleNotFoundError\u001b[0m: No module named 'numpy'"
     ]
    }
   ],
   "source": [
    "import numpy as np"
   ]
  },
  {
   "cell_type": "code",
   "execution_count": 3,
   "id": "44ce0566",
   "metadata": {},
   "outputs": [
    {
     "name": "stdout",
     "output_type": "stream",
     "text": [
      "Matrix 1:\n",
      "[[0.2429255  0.93567405 0.46665775]\n",
      " [0.34920072 0.26616834 0.8891719 ]\n",
      " [0.4438597  0.32223999 0.58974406]]\n",
      "\n",
      "Matrix 2:\n",
      "[[9.22396479e-02 3.39025997e-01 6.34029877e-01]\n",
      " [8.78661870e-02 4.87342588e-03 9.25117417e-01]\n",
      " [3.02606156e-01 8.80544545e-02 4.62970858e-04]]\n",
      "\n",
      "Product (prod) Result:\n",
      "0.0007394386540365008\n",
      "\n",
      "Multiplication (multiply) Result:\n",
      "[[2.24073630e-02 3.17217826e-01 2.95874953e-01]\n",
      " [3.06829359e-02 1.29715168e-03 8.22588411e-01]\n",
      " [1.34314677e-01 2.83746662e-02 2.73034313e-04]]\n",
      "\n",
      "Dot Product (dot) Result:\n",
      "[[0.24583498 0.12800929 1.01984643]\n",
      " [0.32466624 0.19798082 0.46805232]\n",
      " [0.24771564 0.20397998 0.57980317]]\n"
     ]
    }
   ],
   "source": [
    "matrix1 = np.random.rand(3, 3)\n",
    "matrix2 = np.random.rand(3, 3)\n",
    "\n",
    "# Perform the operations\n",
    "product_result = np.prod(matrix1)\n",
    "multiply_result = np.multiply(matrix1, matrix2)\n",
    "dot_product_result = np.dot(matrix1, matrix2)\n",
    "\n",
    "# Print the results\n",
    "print(\"Matrix 1:\")\n",
    "print(matrix1)\n",
    "print(\"\\nMatrix 2:\")\n",
    "print(matrix2)\n",
    "print(\"\\nProduct (prod) Result:\")\n",
    "print(product_result)\n",
    "print(\"\\nMultiplication (multiply) Result:\")\n",
    "print(multiply_result)\n",
    "print(\"\\nDot Product (dot) Result:\")\n",
    "print(dot_product_result)"
   ]
  },
  {
   "cell_type": "markdown",
   "id": "cd3570ce",
   "metadata": {},
   "source": [
    "Q2. Perform the following set operations using the Numpy functions.\n",
    "è Union\n",
    "è Intersection\n",
    "è Set difference\n",
    "è XOR\n"
   ]
  },
  {
   "cell_type": "code",
   "execution_count": 4,
   "id": "7e46b246",
   "metadata": {},
   "outputs": [
    {
     "name": "stdout",
     "output_type": "stream",
     "text": [
      "Union: [1 2 3 4 5 6 7]\n",
      "Intersection: [3 4 5]\n",
      "Set Difference (array1 - array2): [1 2]\n",
      "XOR: [1 2 6 7]\n"
     ]
    }
   ],
   "source": [
    "array1 = np.array([1, 2, 3, 4, 5])\n",
    "array2 = np.array([3, 4, 5, 6, 7])\n",
    "\n",
    "# Union (elements that are in either array)\n",
    "union_result = np.union1d(array1, array2)\n",
    "print(\"Union:\", union_result)\n",
    "\n",
    "# Intersection (elements that are in both arrays)\n",
    "intersection_result = np.intersect1d(array1, array2)\n",
    "print(\"Intersection:\", intersection_result)\n",
    "\n",
    "# Set Difference (elements that are in array1 but not in array2)\n",
    "set_difference_result = np.setdiff1d(array1, array2)\n",
    "print(\"Set Difference (array1 - array2):\", set_difference_result)\n",
    "\n",
    "# XOR (exclusive OR) - elements that are in either array, but not in both\n",
    "xor_result = np.setxor1d(array1, array2)\n",
    "print(\"XOR:\", xor_result)"
   ]
  },
  {
   "cell_type": "markdown",
   "id": "86f52314",
   "metadata": {},
   "source": [
    "Q3. Create a 1D array using Random function and perform the following operations.\n",
    "è Cumulative sum\n",
    "è Cumulative Product\n",
    "è Discrete difference (with n=3)\n",
    "è Find the unique elements from the array"
   ]
  },
  {
   "cell_type": "code",
   "execution_count": 7,
   "id": "fe44b0f5",
   "metadata": {},
   "outputs": [
    {
     "name": "stdout",
     "output_type": "stream",
     "text": [
      "Cumulative Sum:\n",
      "[ 2  5  9 14 19 25]\n",
      "\n",
      "Cumulative Product:\n",
      "[   2    6   24  120  600 3600]\n",
      "\n",
      "Discrete Difference (n=3):\n",
      "[ 0 -1  2]\n",
      "\n",
      "Unique Elements:\n",
      "[2 3 4 5 6]\n"
     ]
    }
   ],
   "source": [
    "array = np.array([2,3,4,5,5,6])  # Change the size (10 in this case) to your desired array size\n",
    "\n",
    "# Cumulative Sum\n",
    "cumulative_sum = np.cumsum(array)\n",
    "print(\"Cumulative Sum:\")\n",
    "print(cumulative_sum)\n",
    "\n",
    "# Cumulative Product\n",
    "cumulative_product = np.cumprod(array)\n",
    "print(\"\\nCumulative Product:\")\n",
    "print(cumulative_product)\n",
    "\n",
    "# Discrete Difference with n=3\n",
    "n = 3\n",
    "discrete_difference = np.diff(array, n=n)\n",
    "print(\"\\nDiscrete Difference (n=3):\")\n",
    "print(discrete_difference)\n",
    "\n",
    "# Find Unique Elements\n",
    "unique_elements = np.unique(array)\n",
    "print(\"\\nUnique Elements:\")\n",
    "print(unique_elements)"
   ]
  },
  {
   "cell_type": "markdown",
   "id": "1ffff112",
   "metadata": {},
   "source": [
    "Q4. Create two 1D array and perform the Addition using zip(), add() and user defined function (frompyfunc())\n"
   ]
  },
  {
   "cell_type": "code",
   "execution_count": 8,
   "id": "5e14c2c2",
   "metadata": {},
   "outputs": [
    {
     "name": "stdout",
     "output_type": "stream",
     "text": [
      "Array 1: [1 2 3 4 5]\n",
      "Array 2: [10 20 30 40 50]\n",
      "\n",
      "Addition using zip(): [11, 22, 33, 44, 55]\n",
      "Addition using np.add(): [11 22 33 44 55]\n",
      "Addition using user-defined function: [11 22 33 44 55]\n"
     ]
    }
   ],
   "source": [
    "array1 = np.array([1, 2, 3, 4, 5])\n",
    "array2 = np.array([10, 20, 30, 40, 50])\n",
    "\n",
    "# Addition using zip()\n",
    "result_zip = [a + b for a, b in zip(array1, array2)]\n",
    "\n",
    "# Addition using np.add()\n",
    "result_add = np.add(array1, array2)\n",
    "\n",
    "# User-defined function using np.frompyfunc()\n",
    "def custom_add(x, y):\n",
    "    return x + y\n",
    "\n",
    "ufunc = np.frompyfunc(custom_add, 2, 1)\n",
    "result_custom = ufunc(array1, array2)\n",
    "\n",
    "# Print results\n",
    "print(\"Array 1:\", array1)\n",
    "print(\"Array 2:\", array2)\n",
    "print(\"\\nAddition using zip():\", result_zip)\n",
    "print(\"Addition using np.add():\", result_add)\n",
    "print(\"Addition using user-defined function:\", result_custom)"
   ]
  },
  {
   "cell_type": "markdown",
   "id": "302ba248",
   "metadata": {},
   "source": [
    "Q5. Find the LCM (Least Common Multiple) and GCD (Greatest Common Divisor) of an array of elements using reduce().\n"
   ]
  },
  {
   "cell_type": "code",
   "execution_count": 9,
   "id": "9f6d21fa",
   "metadata": {},
   "outputs": [
    {
     "name": "stdout",
     "output_type": "stream",
     "text": [
      "Array of Elements: [12 18 24 36 48]\n",
      "GCD (Greatest Common Divisor): 6\n",
      "LCM (Least Common Multiple): 144\n"
     ]
    }
   ],
   "source": [
    "from functools import reduce\n",
    "import math\n",
    "\n",
    "# Create an array of elements\n",
    "elements = np.array([12, 18, 24, 36, 48])\n",
    "\n",
    "# Calculate GCD (Greatest Common Divisor)\n",
    "def find_gcd(x, y):\n",
    "    return math.gcd(x, y)\n",
    "\n",
    "gcd_result = reduce(find_gcd, elements)\n",
    "\n",
    "# Calculate LCM (Least Common Multiple)\n",
    "def find_lcm(x, y):\n",
    "    return x * y // math.gcd(x, y)\n",
    "\n",
    "lcm_result = reduce(find_lcm, elements)\n",
    "\n",
    "# Print the results\n",
    "print(\"Array of Elements:\", elements)\n",
    "print(\"GCD (Greatest Common Divisor):\", gcd_result)\n",
    "print(\"LCM (Least Common Multiple):\", lcm_result)"
   ]
  },
  {
   "cell_type": "code",
   "execution_count": null,
   "id": "53acf7ab",
   "metadata": {},
   "outputs": [],
   "source": []
  }
 ],
 "metadata": {
  "kernelspec": {
   "display_name": "Python 3 (ipykernel)",
   "language": "python",
   "name": "python3"
  },
  "language_info": {
   "codemirror_mode": {
    "name": "ipython",
    "version": 3
   },
   "file_extension": ".py",
   "mimetype": "text/x-python",
   "name": "python",
   "nbconvert_exporter": "python",
   "pygments_lexer": "ipython3",
   "version": "3.11.4"
  }
 },
 "nbformat": 4,
 "nbformat_minor": 5
}
